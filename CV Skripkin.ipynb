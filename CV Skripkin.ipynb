{
 "cells": [
  {
   "cell_type": "markdown",
   "id": "2cf50208-f446-4806-bbb5-f6684de27c96",
   "metadata": {},
   "source": [
    "# Kirill Skripkin"
   ]
  },
  {
   "cell_type": "markdown",
   "id": "42304e67-e58b-471b-8b93-57947829b29f",
   "metadata": {},
   "source": [
    "## RUS-Moscow\n",
    "## Sr CRA II"
   ]
  },
  {
   "cell_type": "markdown",
   "id": "2bec6b0b-7185-4204-9e4a-7c7b47e0306d",
   "metadata": {},
   "source": [
    "---"
   ]
  },
  {
   "cell_type": "markdown",
   "id": "8dbf7d98-e923-4b31-bb76-b3a9407420f0",
   "metadata": {},
   "source": [
    "## Biography"
   ]
  },
  {
   "cell_type": "markdown",
   "id": "f3ed606d-bd89-4897-ae93-5c9432e16a11",
   "metadata": {},
   "source": []
  }
 ],
 "metadata": {
  "kernelspec": {
   "display_name": "Python 3 (ipykernel)",
   "language": "python",
   "name": "python3"
  },
  "language_info": {
   "codemirror_mode": {
    "name": "ipython",
    "version": 3
   },
   "file_extension": ".py",
   "mimetype": "text/x-python",
   "name": "python",
   "nbconvert_exporter": "python",
   "pygments_lexer": "ipython3",
   "version": "3.12.4"
  }
 },
 "nbformat": 4,
 "nbformat_minor": 5
}
