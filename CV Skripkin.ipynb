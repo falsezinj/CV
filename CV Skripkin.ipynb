{
 "cells": [
  {
   "cell_type": "markdown",
   "id": "2cf50208-f446-4806-bbb5-f6684de27c96",
   "metadata": {},
   "source": [
    "# Kirill Skripkin"
   ]
  },
  {
   "cell_type": "markdown",
   "id": "42304e67-e58b-471b-8b93-57947829b29f",
   "metadata": {},
   "source": [
    "## RUS-Moscow\n",
    "## Sr CRA II"
   ]
  },
  {
   "cell_type": "markdown",
   "id": "2bec6b0b-7185-4204-9e4a-7c7b47e0306d",
   "metadata": {},
   "source": [
    "---"
   ]
  },
  {
   "cell_type": "markdown",
   "id": "8dbf7d98-e923-4b31-bb76-b3a9407420f0",
   "metadata": {},
   "source": [
    "## Biography"
   ]
  },
  {
   "cell_type": "markdown",
   "id": "f3ed606d-bd89-4897-ae93-5c9432e16a11",
   "metadata": {},
   "source": [
    "> **Senior Clinical Research Associate II**  \n",
    "> **Regional, Russian Federation**  \n",
    "> **Syneos Health, General Medicine, Clinical Operations**  \n",
    "> Kirill Skripkin is a Medical Doctor who has 15 years' experience in a clinical research industry as a Clinical Research Associate, Clinical Lead and Quality Control Assessor.  \n",
    "> Kirill has graduated from Russian State Medical University in 2004. In 2007 Kirill has started his career in global CRO as a Clinical Trial Administrator. In 2007 he was promoted to CRA position, in 2010 he was promoted to Senior CRA position and currently has over 14 years' experience in international clinical phase II-IV trials in different therapeutic areas as: Rheumatoid Arthritis, Infectious diseases, Lupus, Cardiovascular and Respiratory, CNS Neurology, Oncology, Endocrinology, Orphan diseases and pediatric studies. During this period Kirill has performed all kinds of monitoring activities and gained all-round experience at every stage of the clinical trial process. Kirill has worked as a Clinical Quality Control Assessor and tutor for junior and new hired CRAs, performed the Clinical Quality Control visits, Monitoring Evaluation visits and trainings. Kirill has took part in preparation of presentations for investigators meetings and made these presentations. His sites successfully passed 4 Sponsor audits, 1 internal audits, co-monitoring visits with Sponsor, 3 Local Regulatory Inspections. He has good organizational and interpersonal skills that ensure the successful execution of project goals.  \n",
    "> Furthermore Kirill performed the role as a CRA Lead in Diabetes Mellitus project and acted as a regional Clinical Lead in Orphan disease project for 2 regions: EMEA (UK - 3 sites and 1 CRA, Turkey - 3 sites and 1 CRA, Poland - 2 sites and 1 CRA, Denmark - 1 site and 1 CRA) and APAC (Australia - 2 sites and 1 CRA, New Zealand - 1 site and 1 CRA, Hong Kong - 1 site and 1 CRA, Singapore - 1 site and 1 CRA, Taiwan - 1 site and 1 CRA, South Korea - 1 site and 1 CRA). Besides his proven monitoring experience Kirill has acquired skills in a coordination role he has demonstrated to be a competent Lead CRA and Clinical Lead, supporting the study team in a Hepatitis C, Dyslipidemia, Diabetes Mellitus and Orphan disease trials.\n",
    "Kirill has been involved in the following activities: PSVs, SIVs, IMVs, COVs, performing of co-monitoring visits, management of documents flow fulfillment, maintenance of TMF documentation, participation and conducting of regular calls with Sponsor and/or Internal team, site management, Investigator payment procedures, contract negotiations, site staff trainings, site preparation for audits, collection of essential documents, collection documents for initial IP package for Green Light, communication with LECs, providing of support in IMV reports reviewing and currently acting as a Report Reviewer."
   ]
  },
  {
   "cell_type": "markdown",
   "id": "725a39fd-cc74-4c36-9321-fdcd72dbba55",
   "metadata": {},
   "source": [
    "## Professional Experience"
   ]
  },
  {
   "cell_type": "markdown",
   "id": "1cd5fbaf-b7c4-4caa-9307-f46d6900016a",
   "metadata": {},
   "source": [
    "### Feb 2018 – Sep 2024 Syneos Health (formerly inVentiv Health) / Moscow, Russia"
   ]
  },
  {
   "cell_type": "markdown",
   "id": "f5e0a594-ad12-4ef7-b707-ee478159148b",
   "metadata": {},
   "source": [
    "> **Sr CRA II**  \n",
    "> - Responsible for monitoring all types of clinical trials; assures adherence to Good Clinical Practice, investigator integrity and compliance with all study procedures.  \n",
    "> - Primary responsibility is for site management and performance, including documentation.  Site management activities include all in-house and on-site monitoring for all visit types.  \n",
    "> - May serve in Clinical Lead role.  \n",
    "> - Responsible for management and coordination of Clinical Research Associates (CRAs)/Central Monitors (CMs) on clinical research projects.  \n",
    "> - May participate in Business Development client presentations and bid defenses as requested.\n"
   ]
  },
  {
   "cell_type": "markdown",
   "id": "c30734ab-492d-4354-9820-0cb6f6727916",
   "metadata": {},
   "source": [
    "### May 2017 - Nov 2017 Clintec International / Russia"
   ]
  },
  {
   "cell_type": "markdown",
   "id": "fb69f003-369e-41f5-9745-0b33cd63da70",
   "metadata": {},
   "source": [
    "> **Senior Clinical Research Associate**\n",
    "> \n",
    "> Adherence to Regulatory requirements and laws and ICH-GCP  \n",
    "> - Supervised and monitored clinical trials to ensure adherence to Good Clinical Practice in accordance with ICH-GCP standards, Declaration of Helsinki, Federal Regulatory Requirements and study procedures  \n",
    "> - Attended trainings as recommended and maintained an accurate updated training log\n",
    "> - Promoted within the team a full and detailed understanding of study protocol, SOPs, ICH-GCP and regulatory matters\n",
    ">    \n",
    ">Core Monitoring Tasks and Tracking of Clinical Trials\n",
    "> \n",
    "> - Monitored activities of CRAs assigned the study to ensure early identification and resolution of issues, timely completion and reporting of tasks and communication of important study findings\n",
    "> - Reviewed and helped CRAs in addressing comments raised by sites regarding clinical trial agreements, both in terms of legal aspects and financial ones and liaise with sponsor/ site as appropriate to achieve a mutually agreed outcome\n",
    "> - Reviewed Monitoring visit reports before these are released to the sponsor or internally to Clintec Senior Project Manager if applicable\n",
    "> - Tracked recruitment across assigned sites, identified the key issues with slow recruiting sites and suggested/took corrective action to sponsor and CRAs\n",
    "> - Performed pre-study initiation, interim monitoring and close out visits as required\n",
    "> - During site visits, ensured proper adherence by study sites to protocol, verified integrity of the data submitted on CRFs by source document verification, assisted CRAs and investigative sites with timely and accurate resolution of data queries, documented ongoing site staff training and maintenance of essential documents in the ISF)\n",
    "> - Reported promptly and in accordance with sponsor SOPs, ICH-GCP and local regulatory requirements any Serious Adverse Events reported by sites to relevant sponsor contact and /or Regulatory Authority contact as appropriate\n",
    "> - Distributed SUSARs (Suspected unexpected serious adverse reaction) in accordance with IEC & local regulatory requirements\n",
    "> - Ensured adequacy of drug shipment and drug accountability (and storage times and conditions\n",
    "> - Proactively monitored and reviewed budgeted hours per task for allocated tasks, understood scope of work, raising any changes for discussion with PM\n",
    "> - Monitored and reviewed forecasted hours for allocated tasks for future months across multiple\n",
    "projects, feeding back to line manager and PM on utilization on a monthly basis Essential Communication and Training responsibilities\n",
    "> - Ensured that the team of CRAs attended diligently all sponsor required team meetings, kept a record of attendance and action items assigned to team members and tracked progress with completion of assigned action items\n",
    "> - Provided mentoring, training and support to less experienced members of the team and identified and raised training and development needs for CRAs that require additional expertise from other parts of the organization or via the use of external providers\n",
    "> - Liaised with the Medical Monitor, Principal Investigator, clinical operations staff, sponsor representatives and CRO's, vendors, suppliers as appropriate\n",
    "> - Built and maintained relationships with key sponsor contacts, investigators and third parties, ensuring a positive awareness of Clintec International Services\n",
    "> - Organized, attended and conducted investigator meetings as required\n",
    "> - Contributed training activities and cross-functional activities\n",
    "> - Deputized for the Project Manager / Country Manager as required\n",
    "Documentation Development\n",
    "> - Developed, reviewed and edited clinical trial related documentation including but not limited to; Case Report Forms, Informed Consent Forms, study specific handbooks, guidelines and checklists\n",
    "> - Compiled if appropriate local Competent Authority /IEC applications according to national regulations\n",
    "> - Assisted with study protocol design, development and / or review when required\n"
   ]
  },
  {
   "cell_type": "markdown",
   "id": "ebc9977f-7112-41b3-b533-dad49fea2311",
   "metadata": {},
   "source": [
    "### Sep 2012 - May 2017 Covance / Russia"
   ]
  },
  {
   "cell_type": "markdown",
   "id": "cfa64675-26ce-4cd0-bac1-7be181109060",
   "metadata": {},
   "source": [
    "> **Clinical Quality Control Assessor**  \n",
    "> - Was responsible for informing the project team of the CQC visit and working with the CRA to schedule the visit, as soon as the quarterly site list is launched for execution to ensure nominated sites are evaluated within the nomination period.\n",
    "> - Prepared for the visit by working closely with the CRA, CTL and PL to gain an understanding of the study, risk factors and access to documents and systems as required.\n",
    "> - Conducted the CQC Visit to ensure:\n",
    "    1. Principal Investigator oversight, Investigator audit readiness and adherence to the standards ICH GCP guidelines and local regulations\n",
    "    2. CRA compliance with monitoring responsibilities as specified in Covance SOPs, study plans, and ICH GCP guidelines\n",
    "    3. Site compliance to the protocol to ensure the safety of subjects enrolled in the study and data integrity\n",
    "> - Was responsible and accountable for signing the monitors' log, identifying issue and capturing them in the Site Assessment Workbook (SAW), discussing the findings with the CRA and for conducting a close out meeting with the site staff.\n",
    "> - Scheduled and conducted a post-CQC visit debrief meeting and updated the Quarterly Site List to confirm the visit has taken place. \n",
    "> - Completed the draft CQC Visit Report.\n",
    "> - Ensured that all pertinent issues identified during a CQC Visit including but not limited to all patient/subject safety, PI Oversight, CRA Competency issues are escalated appropriately.\n",
    "\n"
   ]
  },
  {
   "cell_type": "markdown",
   "id": "f0275f08-5a2c-4860-bd8c-e9e971a727c4",
   "metadata": {},
   "source": [
    "### Oct 2011 - May 2017 Covance / Russia"
   ]
  },
  {
   "cell_type": "markdown",
   "id": "d400b009-1f5f-4c41-bf77-b3500b5d2f86",
   "metadata": {},
   "source": [
    "> **Senior Clinical Research Associate**\n",
    "> \n",
    "> -\tWas responsible for all aspects of site management as prescribed in the project plans\n",
    "> -\tPerformed clinical trials monitoring in accordance with the ICH Guidelines, the current monitor guidelines and SOP's including identifying sites, prepared documentation for necessary approvals, initiated sites and observed recruitment, performed monitoring at sites, reported visits and contacts with site, assured the presence of all relevant documents on site, collaborated with other departments for reporting safety information, collected Case Report Forms, followed up and solved data queries, reporting the progress of the study on a regular basis and performed site close-out visits.\n",
    "> -\tManaged small projects under direction of a Project Manager/Director as assigned\n",
    "> -\tServed as lead monitor for a protocol or project and may assist in establishing monitoring plans as assigned\n",
    "> -\tReviewed progress of projects and initiate appropriate actions to achieve target objectives\n",
    "> -\tOrganized and make presentations at Investigator Meetings\n",
    "> -\tReported, write narratives and follow-upped on serious adverse experiences\n",
    "> -\tParticipated in the development of protocols and Case Report Forms as assigned\n",
    "> -\tParticipated in writing clinical trial reports as assigned\n",
    "> -\tInteracted with internal work groups to evaluate needs, resources and timelines\n",
    "> -\tActed as contact for clinical trial supplies and other suppliers (vendors) as assigned\n",
    "> -\tWas responsible for all aspects of registry management as prescribed in the project plans\n",
    "> -\tPerformed feasibility work when requested\n",
    "> -\tRecruitment of potential investigators, preparation of EC submissions, notifications to regulatory authorities, translation of study-related documentation, organization of meetings and other tasks as instructed by supervisor as assigned\n",
    "> -\tNegotiated study budgets with potential investigators and assist the Covance legal department with statements of agreements as assigned\n",
    "> -\tCompleted process of Serious Adverse Event (SAE) reporting, processed production of reports, narratives and follow up of SAEs\n",
    "> -\tIndependently performed CRF review; query generation and resolution against established data review guidelines on Covance or client data management systems as assigned by management\n",
    "> -\tAssisted with training, mentoring and development of new employees\n",
    "> -\tCo-ordinated designated clinical projects as a Local Project Coordinator \n",
    "> -\tPerformed other duties as assigned by management\n"
   ]
  },
  {
   "cell_type": "markdown",
   "id": "42e33aca-0c89-40e5-8ef1-ac6d38049997",
   "metadata": {},
   "source": [
    "### Oct 2010 - Oct 2011 Quintiles / Russia"
   ]
  },
  {
   "cell_type": "markdown",
   "id": "41949f26-3918-45ab-a38f-b8aaa5640115",
   "metadata": {},
   "source": [
    "> **Senior Clinical Research Associate**\n",
    "> \n",
    "> Direct Communication with the study sites, sites monitoring, PSSVs, SIVs, performed co-monitoring visits, COVs, managing documents flow fulfillment, drug accountability, IP registration and handling, site assistance and supply, participation in TC, review of on-site files, ISF maintaining, Pre-screening activities, ICF obtaining, conducting on-site investigator study file, communication with LECs, writing patients templates charts, CRF completion, responsible for coordinating the functional team members and their activities across Russia liaising with project leadership and the sponsor to ensure that the Global Research Operations deliverables (timeline, quality, productivity) are met."
   ]
  },
  {
   "cell_type": "markdown",
   "id": "ecb25ebf-74af-46b1-9dfc-3c1b3d4b5e84",
   "metadata": {},
   "source": [
    "### Apr 2008 - Oct 2010 Quintiles / Russia"
   ]
  },
  {
   "cell_type": "markdown",
   "id": "345e91e4-a132-487c-8d36-4eb468b4b43f",
   "metadata": {},
   "source": [
    "> **Clinical Research Associate**\n",
    "> \n",
    "> -\tPerformed site selection, initiation, monitoring and close-out visits in accordance with contracted scope of work and good clinical practice.\n",
    "> -\tProvided monitoring visits and site management for a variety of protocols, sites and therapeutic areas.\n",
    "> -\tAdministered protocol and related study training to assigned sites and establish regular lines of communication with sites to manage ongoing project expectations and issues.\n",
    "> -\tEvaluated the quality and integrity of study site practices related to the proper conduct of the protocol and adherence to applicable regulations. Escalated quality issues to Clinical Team Lead (CTL) and/or line manager.\n",
    "> -\tManaged the progress of assigned studies by tracking regulatory submissions and approvals, recruitment and enrolment, case report form (CRF) completion and submission, and data query generation and resolution.\n",
    "> -\tCreated and maintained appropriate documentation regarding site management, monitoring visit findings and action plans by submitting regular visit reports and other required study documentation.\n",
    "> -\tProvided assistance to more less experienced clinical staff."
   ]
  },
  {
   "cell_type": "markdown",
   "id": "2f76fafd-c11f-4524-a889-04605a3d54a3",
   "metadata": {},
   "source": [
    "### Oct 2007 - Apr 2008 Quintiles / Russia"
   ]
  },
  {
   "cell_type": "markdown",
   "id": "307ebfe2-2c89-4d7c-b3a2-fb4b140f9b18",
   "metadata": {},
   "source": [
    "> **Clinical Research Associate Trainee**\n",
    "> \n",
    "> -\tCompleted appropriate therapeutic, protocol and clinical research training to perform job duties.\n",
    "> -\tGained experience in study procedures by working with experienced clinical staff in Clinical Research Associate (CRA), Clinical Team Lead (CTL) and Clinical Trials Assist (CTA) roles. Worked collaboratively with other functional groups such as data management and pharmacovigilance.\n",
    "> -\tUnder close supervision, performed site selection, initiation, monitoring and close out visits in accordance with contracted scope of work and good clinical practices.\n",
    "> -\tUnder close supervision, administered protocol and related study training to assigned sites and established regular lines of communication with sites to manage ongoing project expectations and issues.\n",
    "> -\tUnder close supervision, evaluated the quality and integrity of study site practices related to the proper conduct of the protocol and adherence to applicable regulations. Escalated quality issues to CTL and/or line manager.\n",
    "> -\tUnder close supervision, managed the progress of assigned studies by tracking regulatory submissions and approvals, recruitment and enrolment, Case Report Form (CRF) completion and submission, and data query generation and resolution.\n",
    "> -\tUnder close supervision, created and maintained appropriate documentation regarding site management, monitoring visit findings and action plans by submitting regular visit reports and other required study documentation.\n"
   ]
  },
  {
   "cell_type": "markdown",
   "id": "538a61f7-a591-4564-a802-5277e65ba9b4",
   "metadata": {},
   "source": [
    "### Jun 2007 - Oct 2007 Quintiles / Russia"
   ]
  },
  {
   "cell_type": "markdown",
   "id": "ea9fb8c3-84f4-478c-8b10-cfa34e683ebd",
   "metadata": {},
   "source": [
    "> **Clinical Trial Administrator**\n",
    "> \n",
    "> -\tAssisted Clinical Team Lead (CTL) and Clinical Research Associates (CRAs) with accurately updating and maintaining clinical systems that track site compliance and performance within project timelines.\n",
    "> -\tAssisted the clinical team in the preparation, handling, distribution, filing, and archiving of clinical documentation and reports according to the scope of work and standard operating procedures. Assisted with periodic review of study files for accuracy and completeness.\n",
    "> -\tAssisted CTLs with preparation, handling and distribution of Clinical Trial Supplies and maintenance of tracking information.\n",
    "> -\tAssisted with the tracking and management of Case Report Forms (CRFs), queries and clinical data flow.\n",
    "> -\tActed as a central contact for the clinical team for designated project communications, correspondence and associated documentation.\n",
    "> -\tPerformed assigned administrative tasks to support team members with clinical trial execution."
   ]
  },
  {
   "cell_type": "markdown",
   "id": "7b504200-1d8c-45d0-9323-7c20aadccb68",
   "metadata": {},
   "source": [
    "### Mar 2006 - May 2007 Analytic laboratory Alcor-Bio, Inc / Russia"
   ]
  },
  {
   "cell_type": "markdown",
   "id": "ccddfb39-22b6-4bb1-99e1-63daccbfec84",
   "metadata": {},
   "source": [
    "> **Laboratory engineer**\n",
    "> \n",
    "> Elaboration and modification of enzyme-linked analysis diagnostic kits."
   ]
  },
  {
   "cell_type": "markdown",
   "id": "1d4bcfe3-48f2-423b-8c4c-95454aabdc56",
   "metadata": {},
   "source": [
    "### Oct 2004 - Mar 2006 Research Institute of Ophthalmologic Disease RAMS / Russia"
   ]
  },
  {
   "cell_type": "markdown",
   "id": "4d2c703f-d06d-4d79-a869-c5478a6f085e",
   "metadata": {},
   "source": [
    "> **Research associate**\n",
    "> \n",
    "> Information retrieval, routine laboratory operations, statistical data handling."
   ]
  },
  {
   "cell_type": "markdown",
   "id": "164bc6e0-cbc3-4132-8c0c-a6dde56fa938",
   "metadata": {},
   "source": [
    "## Therapeutic Experience"
   ]
  },
  {
   "cell_type": "markdown",
   "id": "00374c99-008e-4424-b8f1-b6aac0202171",
   "metadata": {},
   "source": [
    "|                         |      |                                       |\n",
    "|-------------------------|------|---------------------------------------|\n",
    "|Additional               |-     |Registries                             |\n",
    "|Cardiovascular           |-     |Coronary Syndrome, Acute               |\n",
    "|                         |-     |Dyslipidemia                           |\n",
    "|                         |-     |Heart Failure, Chronic                 |\n",
    "|Decentralized Solutions  |-     |DTP IP (Direct-to-Patient IP)          |\n",
    "|                         |-     |Home Health                            |\n",
    "|                         |-     |ePRO                                   |\n",
    "|                         |-     |eSource                                |\n",
    "|Dermatology              |-     |Urticaria, Chronic Idiopathic          |\n",
    "|Device                   |-     |Rare Disease                           |\n",
    "|Endocrinology            |-     |Type 1 Diabetes Mellitus               |\n",
    "|Endocrinology/Metabolism |-     |Diabetes Mellitus, Type 2              |\n",
    "|                         |-     |Metabolic Disorders                    |\n",
    "|Hematology               |-     |Hematologic Disorders                  |\n",
    "|                         |-     |Hemophilia A                           |\n",
    "|                         |-     |Paroxysmal Nocturnal Hemoglobinuria    |\n",
    "|Hepatology               |-     |Wilsons Disease                        |\n",
    "|Immunology / Inflammatory|-     |Lupus Erthymatosus, Systematic         |\n",
    "|Infectious Disease       |-     |Infection, COVID-19                    |\n",
    "|                         |-     |Infection, Clostridium Difficile       |\n",
    "|                         |-     |Infection, Hepatitis C                 |\n",
    "|                         |-     |Infection, Human Immunodeficiency Virus|\n",
    "|                         |-     |Infection, Nosocomial Pneumonia        |\n",
    "|Neurology                |-     |Alzheimers Disease                     |\n",
    "|                         |-     |Epilepsy, Catamenial                   |\n",
    "|                         |-     |Multiple Sclerosis                     |\n",
    "|                         |-     |Myasthenia Gravis                      |\n",
    "|Oncology                 |-     |Cancer, Breast                         |\n",
    "|                         |-     |Cancer, Head and Neck                  |\n",
    "|                         |-     |Cancer, Lung Non Small Cel             |\n",
    "|                         |-     |Cancer, Lung Small Cell                |\n",
    "|                         |-     |Cancer, Melanoma                       |\n",
    "|                         |-     |Cancer, Non-Hodgkins Lymphoma          |\n",
    "|                         |-     |Cancer, Prostate                       |\n",
    "|Respiratory              |-     |Asthma                                 |\n",
    "|Skeletal Diseases        |-     |Rheumatoid Arthritis                   |\n",
    "|Study Design             |-     |Transition Studies                     |\n",
    "|Urology                  |-     |Incontinence, Detrusor Instability     |"
   ]
  },
  {
   "cell_type": "markdown",
   "id": "76e89d1c-ebe2-4c68-8379-e28d7ced5765",
   "metadata": {},
   "source": [
    "## Laboratory Experience"
   ]
  },
  {
   "cell_type": "markdown",
   "id": "587c4de3-c823-4df3-9a07-631ef839255f",
   "metadata": {},
   "source": [
    "|                         |      |                                       |\n",
    "|-------------------------|------|---------------------------------------|\n",
    "|Device medical Aesthetics|-     |Botulinum Toxin                        |"
   ]
  },
  {
   "cell_type": "markdown",
   "id": "dd42e68a-a27f-4841-95f2-c4bd8e002c86",
   "metadata": {},
   "source": [
    "## Languages"
   ]
  },
  {
   "cell_type": "markdown",
   "id": "ff5698ad-db51-4719-b06b-85076087026b",
   "metadata": {},
   "source": [
    "**English  - Speaking, Reading, Writing**"
   ]
  },
  {
   "cell_type": "markdown",
   "id": "dbf28a56-4f88-40ca-9569-7a209dd6a5dc",
   "metadata": {},
   "source": [
    "**Russian  - Speaking, Reading, Writing** - Native"
   ]
  },
  {
   "cell_type": "markdown",
   "id": "890ec727-1136-40d3-ba73-57c906f8adce",
   "metadata": {},
   "source": [
    "## Additional Experience"
   ]
  },
  {
   "cell_type": "markdown",
   "id": "1eafdc5c-fc55-4012-8cf5-debb06d0b34a",
   "metadata": {},
   "source": [
    "|                      |      |                     |\n",
    "|----------------------|------|---------------------|\n",
    "|Additional Experiences|-     |CRA Trainer/Assessor |\n",
    "|                      |-     |Electronic Diaries   |\n",
    "|                      |-     |Electronic TMF review|\n",
    "|                      |-     |IMPACT Experience    |\n",
    "|                      |-     |Imaging Experience   |\n",
    "|CDM System Experience |-     |InForm EDC           |\n",
    "|                      |-     |Paper CRF            |\n",
    "|                      |-     |Rave EDC             |\n",
    "|TMF                   |-     |Trial Interactive    |\n",
    "|                      |-     |Veeva                |"
   ]
  },
  {
   "cell_type": "markdown",
   "id": "3f6bef66-b7c6-40c9-8a46-490896438463",
   "metadata": {},
   "source": [
    "## Professional Certifications & Licensures"
   ]
  },
  {
   "cell_type": "markdown",
   "id": "d778e315-a9a5-409d-a174-b7d300f3d826",
   "metadata": {},
   "source": [
    "**GCP for Clinical Trials** - Apr-2011"
   ]
  },
  {
   "cell_type": "markdown",
   "id": "a91d601f-be53-4a7f-8b6a-e6dfae25d604",
   "metadata": {},
   "source": [
    "## Education"
   ]
  },
  {
   "cell_type": "markdown",
   "id": "dc124fb1-0d0b-445c-b060-877847ae31a7",
   "metadata": {},
   "source": [
    "|2004|Russian State Medical University - Russian Federation|\n",
    "|----|-----------------------------------------------------|\n",
    "|    |Doctor of Medicine MD - Medical Biophysics           |"
   ]
  }
 ],
 "metadata": {
  "kernelspec": {
   "display_name": "Python 3 (ipykernel)",
   "language": "python",
   "name": "python3"
  },
  "language_info": {
   "codemirror_mode": {
    "name": "ipython",
    "version": 3
   },
   "file_extension": ".py",
   "mimetype": "text/x-python",
   "name": "python",
   "nbconvert_exporter": "python",
   "pygments_lexer": "ipython3",
   "version": "3.12.4"
  }
 },
 "nbformat": 4,
 "nbformat_minor": 5
}
